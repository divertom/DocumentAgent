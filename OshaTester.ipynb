{
 "cells": [
  {
   "cell_type": "code",
   "execution_count": null,
   "id": "2ca39081",
   "metadata": {},
   "outputs": [],
   "source": [
    "from langchain.chains import RetrievalQA\n",
    "from langchain_community.llms import Ollama\n",
    "from langchain_community.vectorstores import Chroma\n",
    "from langchain_community.embeddings.ollama import OllamaEmbeddings\n",
    "\n",
    "import os\n",
    "from dotenv import load_dotenv\n",
    "\n",
    "\n",
    "# Load environment variables from .env file\n",
    "load_dotenv()\n",
    "VectorDBPath = os.getenv(\"VECTOR_DB_PATH\")\n",
    "\n",
    "# Load stored DB\n",
    "vectorstore = Chroma(\n",
    "    persist_directory=VectorDBPath,\n",
    "    embedding_function=OllamaEmbeddings(model=\"nomic-embed-text\"),\n",
    ")\n",
    "\n",
    "retriever = vectorstore.as_retriever(search_kwargs={\"k\": 3})\n",
    "qa = RetrievalQA.from_chain_type(\n",
    "    llm=Ollama(model=\"llama3\"),\n",
    "    retriever=retriever\n",
    ")\n",
    "\n",
    "query = \"What are the OSHA requirements for a ladder?\"\n",
    "print(qa.run(query))\n"
   ]
  }
 ],
 "metadata": {
  "kernelspec": {
   "display_name": "DocumentAgentEnv",
   "language": "python",
   "name": "python3"
  },
  "language_info": {
   "name": "python",
   "version": "3.11.13"
  }
 },
 "nbformat": 4,
 "nbformat_minor": 5
}
