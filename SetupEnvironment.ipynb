{
 "cells": [
  {
   "cell_type": "code",
   "execution_count": null,
   "id": "43366eb8",
   "metadata": {},
   "outputs": [],
   "source": [
    "import os"
   ]
  },
  {
   "cell_type": "code",
   "execution_count": null,
   "id": "fa248e45",
   "metadata": {},
   "outputs": [],
   "source": [
    "!conda env create -f environment_full.yml"
   ]
  },
  {
   "cell_type": "code",
   "execution_count": null,
   "id": "d086d038",
   "metadata": {},
   "outputs": [],
   "source": [
    "!conda activate DocumentAgent"
   ]
  },
  {
   "cell_type": "code",
   "execution_count": null,
   "id": "e3d3fb37",
   "metadata": {},
   "outputs": [],
   "source": [
    "#delete the virtual environment if not needed anymore\n",
    "!conda deactivate\n",
    "!conda env remove -n DocumentAgent\n",
    "\n"
   ]
  }
 ],
 "metadata": {
  "kernelspec": {
   "display_name": "Python (myenv)",
   "language": "python",
   "name": "myenv"
  },
  "language_info": {
   "codemirror_mode": {
    "name": "ipython",
    "version": 3
   },
   "file_extension": ".py",
   "mimetype": "text/x-python",
   "name": "python",
   "nbconvert_exporter": "python",
   "pygments_lexer": "ipython3",
   "version": "3.13.6"
  }
 },
 "nbformat": 4,
 "nbformat_minor": 5
}
