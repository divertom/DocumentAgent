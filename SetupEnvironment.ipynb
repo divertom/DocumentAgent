{
 "cells": [
  {
   "cell_type": "code",
   "execution_count": null,
   "id": "43366eb8",
   "metadata": {},
   "outputs": [],
   "source": [
    "import os"
   ]
  },
  {
   "cell_type": "code",
   "execution_count": null,
   "id": "fa248e45",
   "metadata": {},
   "outputs": [],
   "source": [
    "!conda env create -f environment_full.yml"
   ]
  },
  {
   "cell_type": "code",
   "execution_count": null,
   "id": "d086d038",
   "metadata": {},
   "outputs": [],
   "source": [
    "!conda activate DocumentAgentEnv"
   ]
  },
  {
   "cell_type": "code",
   "execution_count": 1,
   "id": "e3d3fb37",
   "metadata": {},
   "outputs": [
    {
     "name": "stdout",
     "output_type": "stream",
     "text": [
      "3 channel Terms of Service accepted\n"
     ]
    },
    {
     "name": "stderr",
     "output_type": "stream",
     "text": [
      "\n",
      "DirectoryNotACondaEnvironmentError: The target directory exists, but it is not a conda environment.\n",
      "Use 'conda create' to convert the directory to a conda environment.\n",
      "  target directory: C:\\Users\\torst\\miniconda3\\envs\\DocumentAgent\n",
      "\n",
      "\n"
     ]
    }
   ],
   "source": [
    "#delete the virtual environment if not needed anymore\n",
    "!conda deactivate\n",
    "!conda env remove -n DocumentAgentEnv\n",
    "\n"
   ]
  }
 ],
 "metadata": {
  "kernelspec": {
   "display_name": "Python (myenv)",
   "language": "python",
   "name": "myenv"
  },
  "language_info": {
   "codemirror_mode": {
    "name": "ipython",
    "version": 3
   },
   "file_extension": ".py",
   "mimetype": "text/x-python",
   "name": "python",
   "nbconvert_exporter": "python",
   "pygments_lexer": "ipython3",
   "version": "3.13.6"
  }
 },
 "nbformat": 4,
 "nbformat_minor": 5
}
