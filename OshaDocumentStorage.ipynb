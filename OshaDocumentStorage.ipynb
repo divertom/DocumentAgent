{
 "cells": [
  {
   "cell_type": "code",
   "execution_count": null,
   "id": "abe8002b",
   "metadata": {},
   "outputs": [],
   "source": [
    "# ingest_osha.py\n",
    "import os\n",
    "from dotenv import load_dotenv\n",
    "\n",
    "from langchain.text_splitter import RecursiveCharacterTextSplitter\n",
    "from langchain_community.vectorstores import Chroma\n",
    "from langchain_community.embeddings.ollama import OllamaEmbeddings\n",
    "\n",
    "from osha_consumer import OSHAConsumer\n",
    "\n",
    "\n",
    "# Load environment variables from .env file\n",
    "load_dotenv()\n",
    "VectorDBPath = os.getenv(\"VECTOR_DB_PATH\")\n",
    "\n",
    "\n",
    "def ingest_osha(path: str, persist_dir=VectorDBPath):\n",
    "    # 1. Fetch & parse\n",
    "    consumer = OSHAConsumer()\n",
    "    docs = consumer.fetch_and_parse(path)\n",
    "\n",
    "    # 2. Split into chunks\n",
    "    splitter = RecursiveCharacterTextSplitter(chunk_size=500, chunk_overlap=50)\n",
    "    chunks = splitter.split_documents(docs)\n",
    "\n",
    "    # 3. Create embeddings\n",
    "    embeddings = OllamaEmbeddings(model=\"nomic-embed-text\")\n",
    "\n",
    "    # 4. Store in Chroma DB\n",
    "    vectorstore = Chroma.from_documents(\n",
    "        chunks,\n",
    "        embeddings,\n",
    "        persist_directory=persist_dir\n",
    "    )\n",
    "    vectorstore.persist()\n",
    "    print(f\"Ingested {len(chunks)} chunks into {persist_dir}\")\n",
    "\n",
    "\n",
    "if __name__ == \"__main__\":\n",
    "    # Example: OSHA regulations for General Industry\n",
    "    ingest_osha(\"/laws-regs/regulations/standardnumber/1910/1910.23\")\n"
   ]
  }
 ],
 "metadata": {
  "kernelspec": {
   "display_name": "DocumentAgentEnv",
   "language": "python",
   "name": "python3"
  },
  "language_info": {
   "codemirror_mode": {
    "name": "ipython",
    "version": 3
   },
   "file_extension": ".py",
   "mimetype": "text/x-python",
   "name": "python",
   "nbconvert_exporter": "python",
   "pygments_lexer": "ipython3",
   "version": "3.11.13"
  }
 },
 "nbformat": 4,
 "nbformat_minor": 5
}
