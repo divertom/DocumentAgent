{
 "cells": [
  {
   "cell_type": "code",
   "execution_count": 4,
   "id": "d7daa574",
   "metadata": {},
   "outputs": [],
   "source": [
    "# ingest_component.py\n",
    "\"\"\"\n",
    "This component takes a document (local file or text), processes it into chunks,\n",
    "embeds the chunks, and adds them to a local vector store for later retrieval.\n",
    "\"\"\"\n",
    "\n",
    "from langchain_community.document_loaders import PyPDFLoader, TextLoader\n",
    "from langchain_community.embeddings.ollama import OllamaEmbeddings\n",
    "from langchain_community.vectorstores import Chroma\n",
    "from langchain.text_splitter import RecursiveCharacterTextSplitter # For text splitting\n",
    "import os\n",
    "\n",
    "VECTOR_DB_PATH = \"./vector_db\"\n",
    "\n",
    "def ingest_document(file_path: str):\n",
    "    \"\"\"\n",
    "    Ingest a single document into the OSHA vector store.\n",
    "\n",
    "    Args:\n",
    "        file_path (str): Path to the document (PDF or TXT).\n",
    "    \"\"\"\n",
    "    # Choose loader based on extension\n",
    "    if file_path.lower().endswith(\".pdf\"):\n",
    "        loader = PyPDFLoader(file_path)\n",
    "    elif file_path.lower().endswith(\".txt\"):\n",
    "        loader = TextLoader(file_path)\n",
    "    else:\n",
    "        raise ValueError(f\"Unsupported file format: {file_path}\")\n",
    "\n",
    "    # Load and split into chunks\n",
    "    docs = loader.load()\n",
    "    splitter = RecursiveCharacterTextSplitter(chunk_size=1000, chunk_overlap=200)\n",
    "    chunks = splitter.split_documents(docs)\n",
    "\n",
    "    # Create or update vector store\n",
    "    embeddings = OpenAIEmbeddings()\n",
    "    vectorstore = Chroma(persist_directory=VECTOR_DB_PATH, embedding_function=embeddings)\n",
    "    vectorstore.add_documents(chunks)\n",
    "    vectorstore.persist()\n",
    "\n",
    "    print(f\"✅ Ingested {len(chunks)} chunks from {file_path} into {VECTOR_DB_PATH}\")\n"
   ]
  }
 ],
 "metadata": {
  "kernelspec": {
   "display_name": "Python (myenv)",
   "language": "python",
   "name": "myenv"
  },
  "language_info": {
   "codemirror_mode": {
    "name": "ipython",
    "version": 3
   },
   "file_extension": ".py",
   "mimetype": "text/x-python",
   "name": "python",
   "nbconvert_exporter": "python",
   "pygments_lexer": "ipython3",
   "version": "3.13.6"
  }
 },
 "nbformat": 4,
 "nbformat_minor": 5
}
