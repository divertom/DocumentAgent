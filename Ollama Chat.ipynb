{
 "cells": [
  {
   "cell_type": "code",
   "execution_count": 2,
   "id": "da3bbcec",
   "metadata": {},
   "outputs": [],
   "source": [
    "from langchain_community.llms import Ollama\n",
    "from langchain.prompts import PromptTemplate\n",
    "from langchain.chains import LLMChain"
   ]
  },
  {
   "cell_type": "code",
   "execution_count": 3,
   "id": "f3d8fe2b",
   "metadata": {},
   "outputs": [
    {
     "name": "stderr",
     "output_type": "stream",
     "text": [
      "C:\\Users\\torst\\AppData\\Local\\Temp\\ipykernel_21712\\3866138996.py:2: LangChainDeprecationWarning: The class `Ollama` was deprecated in LangChain 0.3.1 and will be removed in 1.0.0. An updated version of the class exists in the :class:`~langchain-ollama package and should be used instead. To use it run `pip install -U :class:`~langchain-ollama` and import as `from :class:`~langchain_ollama import OllamaLLM``.\n",
      "  llm = Ollama(model=\"gemma3:4b\")  # Or \"llama3\", etc.\n",
      "C:\\Users\\torst\\AppData\\Local\\Temp\\ipykernel_21712\\3866138996.py:11: LangChainDeprecationWarning: The class `LLMChain` was deprecated in LangChain 0.1.17 and will be removed in 1.0. Use :meth:`~RunnableSequence, e.g., `prompt | llm`` instead.\n",
      "  chain = LLMChain(llm=llm, prompt=prompt)\n",
      "C:\\Users\\torst\\AppData\\Local\\Temp\\ipykernel_21712\\3866138996.py:14: LangChainDeprecationWarning: The method `Chain.run` was deprecated in langchain 0.1.0 and will be removed in 1.0. Use :meth:`~invoke` instead.\n",
      "  result = chain.run(\"black holes\")\n"
     ]
    },
    {
     "name": "stdout",
     "output_type": "stream",
     "text": [
      "Okay, let's break down black holes in a simple way:\n",
      "\n",
      "**What are Black Holes?**\n",
      "\n",
      "Imagine you have a really, *really* heavy ball.  If you squeeze that ball down, down, down into a tiny space, it gets incredibly dense. A black hole is basically that – a place in space where a *huge* amount of matter is crammed into a *tiny* space.\n",
      "\n",
      "**Here's the key stuff:**\n",
      "\n",
      "* **Gravity Gone Wild:** Because all that matter is packed so tightly, the gravity (the force that pulls things together) is unbelievably strong.  It's like the strongest magnet you can possibly imagine.\n",
      "* **Nothing Escapes:** This gravity is so strong that *nothing*, not even light, can escape once it gets too close. That's why they're called \"black\" – because light can’t bounce off of them for us to see.\n",
      "* **The Event Horizon:** There's a boundary around a black hole called the \"event horizon.\" Think of it like the point of no return. Once something crosses this line, it’s pulled into the black hole and can never get out.\n",
      "* **They Form from Dead Stars:** Most black holes are formed when massive stars die. When these stars run out of fuel, they collapse under their own gravity.\n",
      "\n",
      "**Think of it like a drain:**\n",
      "\n",
      "Imagine pouring water down a drain. The closer the water gets to the drain, the faster it swirls around before it disappears. A black hole is like a cosmic drain – anything that gets too close is sucked in and lost forever.\n",
      "\n",
      "\n",
      "**Important Note:** Black holes aren't just giant vacuum cleaners. They don't just go around gobbling up everything in the universe. You would have to get *very* close to one to be pulled in!\n",
      "\n",
      "---\n",
      "\n",
      "**Resources to learn more:**\n",
      "\n",
      "*   **NASA Kids' Club - Black Holes:** [https://science.nasa.gov/black-holes/](https://science.nasa.gov/black-holes/)\n",
      "*   **National Geographic - Black Holes:** [https://www.nationalgeographic.com/science/phenomena/black-holes/](https://www.nationalgeographic.com/science/phenomena/black-holes/)\n",
      "\n",
      "\n",
      "\n",
      "Do you want me to explain a specific aspect of black holes in more detail, like:\n",
      "\n",
      "*   How scientists study them?\n",
      "*   Different types of black holes?\n"
     ]
    }
   ],
   "source": [
    "# Load Ollama model (must be running)\n",
    "llm = Ollama(model=\"gemma3:4b\")  # Or \"llama3\", etc.\n",
    "\n",
    "# Define a prompt\n",
    "prompt = PromptTemplate(\n",
    "    input_variables=[\"topic\"],\n",
    "    template=\"Explain the following topic in simple terms: {topic}\"\n",
    ")\n",
    "\n",
    "# Create a chain\n",
    "chain = LLMChain(llm=llm, prompt=prompt)\n",
    "\n",
    "# Run it\n",
    "result = chain.run(\"black holes\")\n",
    "print(result)"
   ]
  }
 ],
 "metadata": {
  "kernelspec": {
   "display_name": "langchain-env",
   "language": "python",
   "name": "python3"
  },
  "language_info": {
   "codemirror_mode": {
    "name": "ipython",
    "version": 3
   },
   "file_extension": ".py",
   "mimetype": "text/x-python",
   "name": "python",
   "nbconvert_exporter": "python",
   "pygments_lexer": "ipython3",
   "version": "3.10.18"
  }
 },
 "nbformat": 4,
 "nbformat_minor": 5
}
