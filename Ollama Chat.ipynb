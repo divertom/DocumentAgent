{
 "cells": [
  {
   "cell_type": "code",
   "execution_count": 1,
   "id": "da3bbcec",
   "metadata": {},
   "outputs": [],
   "source": [
    "from langchain_community.llms import Ollama\n",
    "from langchain.prompts import PromptTemplate\n",
    "from langchain.chains import LLMChain"
   ]
  },
  {
   "cell_type": "code",
   "execution_count": 2,
   "id": "f3d8fe2b",
   "metadata": {},
   "outputs": [
    {
     "name": "stderr",
     "output_type": "stream",
     "text": [
      "C:\\Users\\torst\\AppData\\Local\\Temp\\ipykernel_18556\\3866138996.py:2: LangChainDeprecationWarning: The class `Ollama` was deprecated in LangChain 0.3.1 and will be removed in 1.0.0. An updated version of the class exists in the :class:`~langchain-ollama package and should be used instead. To use it run `pip install -U :class:`~langchain-ollama` and import as `from :class:`~langchain_ollama import OllamaLLM``.\n",
      "  llm = Ollama(model=\"gemma3:4b\")  # Or \"llama3\", etc.\n",
      "C:\\Users\\torst\\AppData\\Local\\Temp\\ipykernel_18556\\3866138996.py:11: LangChainDeprecationWarning: The class `LLMChain` was deprecated in LangChain 0.1.17 and will be removed in 1.0. Use :meth:`~RunnableSequence, e.g., `prompt | llm`` instead.\n",
      "  chain = LLMChain(llm=llm, prompt=prompt)\n",
      "C:\\Users\\torst\\AppData\\Local\\Temp\\ipykernel_18556\\3866138996.py:14: LangChainDeprecationWarning: The method `Chain.run` was deprecated in langchain 0.1.0 and will be removed in 1.0. Use :meth:`~invoke` instead.\n",
      "  result = chain.run(\"black holes\")\n"
     ]
    },
    {
     "name": "stdout",
     "output_type": "stream",
     "text": [
      "Okay, let's break down black holes in a simple way!\n",
      "\n",
      "**What is a Black Hole?**\n",
      "\n",
      "Imagine you have a really, *really* heavy ball. Now, imagine you squeeze that ball down, down, down into a tiny, tiny space. It would become incredibly dense, right?\n",
      "\n",
      "A black hole is kind of like that. It's a place in space where a HUGE amount of matter is squeezed into a ridiculously small space. \n",
      "\n",
      "**Here's the key stuff:**\n",
      "\n",
      "* **Gravity Gone Wild:** Because all that matter is packed so tightly, it creates an *incredibly* strong gravitational pull. Gravity is what keeps us on Earth, and black holes have so much gravity that *nothing*, not even light, can escape once it gets too close.\n",
      "\n",
      "* **The Event Horizon:** This is the “point of no return” around a black hole. Think of it like a waterfall – once you go over the edge, there's no getting back up.  The event horizon is the boundary around the black hole where the gravity is so strong that nothing can escape.\n",
      "\n",
      "* **They're Not Vacuum Cleaners:**  Black holes don’t just suck everything up! You have to get pretty close to the event horizon to be pulled in. If our Sun suddenly turned into a black hole (which it won't!), Earth would still orbit it just like it does now.\n",
      "\n",
      "\n",
      "**How are they formed?**\n",
      "\n",
      "Most black holes are formed when massive stars die.  When a giant star runs out of fuel, it collapses in on itself, creating a black hole.\n",
      "\n",
      "**Think of it like this:**\n",
      "\n",
      "* **Normal Star:** Burns fuel and shines brightly.\n",
      "* **Giant Star:** Burns fuel faster and eventually collapses.\n",
      "* **Black Hole:** The collapsed remains, with immense gravity.\n",
      "\n",
      "\n",
      "\n",
      "**Resources for more information:**\n",
      "\n",
      "* **NASA Kids' Club - Black Holes:** [https://science.nasa.gov/black-holes/](https://science.nasa.gov/black-holes/)\n",
      "* **National Geographic - Black Holes:** [https://www.nationalgeographic.com/science/phenomena/black-holes/](https://www.nationalgeographic.com/science/phenomena/black-holes/)\n",
      "\n",
      "\n",
      "Do you want me to explain a specific aspect of black holes in more detail, like:\n",
      "\n",
      "*   How scientists study them?\n",
      "*   What happens if you fell into a black hole?\n",
      "*   Different types of black holes?\n"
     ]
    }
   ],
   "source": [
    "# Load Ollama model (must be running)\n",
    "llm = Ollama(model=\"gemma3:4b\")  # Or \"llama3\", etc.\n",
    "\n",
    "# Define a prompt\n",
    "prompt = PromptTemplate(\n",
    "    input_variables=[\"topic\"],\n",
    "    template=\"Explain the following topic in simple terms: {topic}\"\n",
    ")\n",
    "\n",
    "# Create a chain\n",
    "chain = LLMChain(llm=llm, prompt=prompt)\n",
    "\n",
    "# Run it\n",
    "result = chain.run(\"black holes\")\n",
    "print(result)"
   ]
  }
 ],
 "metadata": {
  "kernelspec": {
   "display_name": "DocumentAgentEnv",
   "language": "python",
   "name": "python3"
  },
  "language_info": {
   "codemirror_mode": {
    "name": "ipython",
    "version": 3
   },
   "file_extension": ".py",
   "mimetype": "text/x-python",
   "name": "python",
   "nbconvert_exporter": "python",
   "pygments_lexer": "ipython3",
   "version": "3.11.13"
  }
 },
 "nbformat": 4,
 "nbformat_minor": 5
}
